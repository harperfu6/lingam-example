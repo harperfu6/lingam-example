{
 "cells": [
  {
   "cell_type": "markdown",
   "id": "progressive-literature",
   "metadata": {},
   "source": [
    "ref: https://taku-y.github.io/bmlingam/tutorial.html"
   ]
  },
  {
   "cell_type": "markdown",
   "id": "substantial-living",
   "metadata": {},
   "source": [
    "# データの作成"
   ]
  },
  {
   "cell_type": "code",
   "execution_count": 7,
   "id": "quantitative-david",
   "metadata": {
    "ExecuteTime": {
     "end_time": "2021-03-15T23:53:35.121195Z",
     "start_time": "2021-03-15T23:53:32.840730Z"
    }
   },
   "outputs": [
    {
     "name": "stdout",
     "output_type": "stream",
     "text": [
      "Made artificial data and saved as ./sampledata.csv.\r\n",
      "Program finished at Tue Mar 16 08:53:34 2021\r\n"
     ]
    }
   ],
   "source": [
    "!bmlingam-make-testdata"
   ]
  },
  {
   "cell_type": "code",
   "execution_count": 8,
   "id": "mighty-magnitude",
   "metadata": {
    "ExecuteTime": {
     "end_time": "2021-03-15T23:53:36.703237Z",
     "start_time": "2021-03-15T23:53:36.575334Z"
    }
   },
   "outputs": [
    {
     "name": "stdout",
     "output_type": "stream",
     "text": [
      "x1_src,x2_dst\r\n",
      "5.9869566888282355,-7.666793124160844\r\n",
      "5.248009864586569,11.63784592590497\r\n",
      "4.865887805596902,7.5015689410336766\r\n",
      "1.978218131037337,9.428903781567513\r\n",
      "7.099575724754648,2.236045893084733\r\n",
      "4.053766552007718,9.037312168135102\r\n",
      "1.0747236907015671,12.182329783109918\r\n",
      "2.0584536910438063,9.884683968444955\r\n",
      "2.944323666862824,7.222394769434277\r\n"
     ]
    }
   ],
   "source": [
    "!head sampledata.csv"
   ]
  },
  {
   "cell_type": "code",
   "execution_count": 1,
   "id": "patent-closure",
   "metadata": {
    "ExecuteTime": {
     "end_time": "2021-03-16T01:10:53.090696Z",
     "start_time": "2021-03-16T01:10:52.944586Z"
    }
   },
   "outputs": [
    {
     "name": "stdout",
     "output_type": "stream",
     "text": [
      "     101 sampledata.csv\r\n"
     ]
    }
   ],
   "source": [
    "!wc -l sampledata.csv"
   ]
  },
  {
   "cell_type": "code",
   "execution_count": null,
   "id": "higher-tobago",
   "metadata": {},
   "outputs": [],
   "source": []
  },
  {
   "cell_type": "markdown",
   "id": "published-gasoline",
   "metadata": {},
   "source": [
    "# BMLiNGAM"
   ]
  },
  {
   "cell_type": "code",
   "execution_count": 9,
   "id": "julian-technician",
   "metadata": {
    "ExecuteTime": {
     "end_time": "2021-03-15T23:56:33.845952Z",
     "start_time": "2021-03-15T23:53:38.419102Z"
    }
   },
   "outputs": [
    {
     "name": "stdout",
     "output_type": "stream",
     "text": [
      "---- Algorithm parameters ----\n",
      "Number of MC samples: 10000\n",
      "Number of candidate models: 1800\n",
      "\n",
      "---- Data ----\n",
      "Data loaded from sampledata.csv.\n",
      "Data contains 100 samples.\n",
      "Variable names: ['x1_src' 'x2_dst']\n",
      "\n",
      "{\n",
      "  \"2 * log(p(M)) - log(p(M_rev))\": \"5.968855762379235\",\n",
      "  \"Infered causality\": \"x1_src -> x2_dst\"\n",
      "}\n",
      "Inferred causality table was saved as result1/causality.csv.\n",
      "Optimal model was saved as result1/x1_src_x2_dst.bmlm.pklz.\n",
      "Program finished at Tue Mar 16 08:56:33 2021\n",
      "Elapsed time: 172.9 [sec]\n",
      "\n"
     ]
    }
   ],
   "source": [
    "!bmlingam-causality sampledata.csv --result_dir=result1"
   ]
  },
  {
   "cell_type": "markdown",
   "id": "automatic-indicator",
   "metadata": {},
   "source": [
    " \"2 * log(p(M)) - log(p(M_rev))\"がベイズファクターと呼ばれ，10以上だと因果の向きに自信がある"
   ]
  },
  {
   "cell_type": "markdown",
   "id": "desirable-recording",
   "metadata": {},
   "source": [
    "\"Infered causality\": はその因果の向きである"
   ]
  },
  {
   "cell_type": "code",
   "execution_count": null,
   "id": "visible-timeline",
   "metadata": {},
   "outputs": [],
   "source": []
  },
  {
   "cell_type": "markdown",
   "id": "corresponding-mixture",
   "metadata": {},
   "source": [
    "# 因果効果"
   ]
  },
  {
   "cell_type": "markdown",
   "id": "close-somalia",
   "metadata": {},
   "source": [
    "そのまま動かなかったので，coresを取れるように自前で変更した"
   ]
  },
  {
   "cell_type": "code",
   "execution_count": 10,
   "id": "coordinate-soldier",
   "metadata": {
    "ExecuteTime": {
     "end_time": "2021-03-15T23:57:26.499671Z",
     "start_time": "2021-03-15T23:56:33.850152Z"
    },
    "scrolled": false
   },
   "outputs": [
    {
     "name": "stdout",
     "output_type": "stream",
     "text": [
      "result1/x1_src_x2_dst.bmlm.pklz\n",
      "/Users/yamaji/anaconda3/envs/py37/lib/python3.7/site-packages/pymc3/sampling.py:468: FutureWarning: In an upcoming release, pm.sample will return an `arviz.InferenceData` object instead of a `MultiTrace` by default. You can pass return_inferencedata=True or return_inferencedata=False to be safe and silence this warning.\n",
      "  FutureWarning,\n",
      "Sequential sampling (2 chains in 1 job)\n",
      "CompoundStep\n",
      ">Metropolis: [b]\n",
      ">Metropolis: [h2]\n",
      ">Metropolis: [h1]\n",
      ">Metropolis: [u2s]\n",
      ">Metropolis: [u1s]\n",
      "Sampling 2 chains for 1_000 tune and 10_000 draw iterations (2_000 + 20_000 draws total) took 14 seconds.\n",
      "The rhat statistic is larger than 1.4 for some parameters. The sampler did not converge.\n",
      "The estimated number of effective samples is smaller than 200 for some parameters.\n",
      "/Users/yamaji/anaconda3/envs/py37/lib/python3.7/site-packages/pymc3/sampling.py:468: FutureWarning: In an upcoming release, pm.sample will return an `arviz.InferenceData` object instead of a `MultiTrace` by default. You can pass return_inferencedata=True or return_inferencedata=False to be safe and silence this warning.\n",
      "  FutureWarning,\n",
      "Sequential sampling (2 chains in 1 job)\n",
      "CompoundStep\n",
      ">Metropolis: [b]\n",
      ">Metropolis: [h2]\n",
      ">Metropolis: [h1]\n",
      ">Metropolis: [u2s]\n",
      ">Metropolis: [u1s]\n",
      "Sampling 2 chains for 0 tune and 11_000 draw iterations (0 + 22_000 draws total) took 13 seconds.\n",
      "The number of effective samples is smaller than 10% for some parameters.\n",
      "---- Variables x1_src and x2_dst ----\n",
      "Inferred causality   : x1_src -> x2_dst\n",
      "Posterior mean       : -0.843865\n",
      "95% Credible interval: (-1.096734, -0.611806)\n",
      "\n",
      "True False\n",
      "/Users/yamaji/anaconda3/envs/py37/lib/python3.7/site-packages/numpy/core/_asarray.py:171: VisibleDeprecationWarning: Creating an ndarray from ragged nested sequences (which is a list-or-tuple of lists-or-tuples-or ndarrays with different lengths or shapes) is deprecated. If you meant to do this, you must specify 'dtype=object' when creating the ndarray.\n",
      "  return array(a, dtype, copy=False, order=order, subok=True)\n",
      "A figure of the distribution of the posterior sampleswas saved as result1/x1_src_x2_dst.bmlm.png.\n",
      "Posterior samples was saved as result1/x1_src_x2_dst.bmlm.post.csv.\n",
      "Program finished at Tue Mar 16 08:57:26 2021\n",
      "Elapsed time: 50.2 [sec]\n"
     ]
    }
   ],
   "source": [
    "!bmlingam-coeff result1/x1_src_x2_dst.bmlm.pklz --cores 1"
   ]
  },
  {
   "cell_type": "code",
   "execution_count": null,
   "id": "short-powder",
   "metadata": {},
   "outputs": [],
   "source": []
  },
  {
   "cell_type": "code",
   "execution_count": null,
   "id": "aggressive-poison",
   "metadata": {},
   "outputs": [],
   "source": []
  }
 ],
 "metadata": {
  "kernelspec": {
   "display_name": "Python 3",
   "language": "python",
   "name": "python3"
  },
  "language_info": {
   "codemirror_mode": {
    "name": "ipython",
    "version": 3
   },
   "file_extension": ".py",
   "mimetype": "text/x-python",
   "name": "python",
   "nbconvert_exporter": "python",
   "pygments_lexer": "ipython3",
   "version": "3.7.3"
  },
  "toc": {
   "base_numbering": 1,
   "nav_menu": {},
   "number_sections": true,
   "sideBar": true,
   "skip_h1_title": false,
   "title_cell": "Table of Contents",
   "title_sidebar": "Contents",
   "toc_cell": false,
   "toc_position": {},
   "toc_section_display": true,
   "toc_window_display": true
  }
 },
 "nbformat": 4,
 "nbformat_minor": 5
}
