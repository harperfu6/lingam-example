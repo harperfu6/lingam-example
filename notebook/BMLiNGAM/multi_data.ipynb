{
 "cells": [
  {
   "cell_type": "code",
   "execution_count": 1,
   "id": "special-ozone",
   "metadata": {
    "ExecuteTime": {
     "end_time": "2021-03-16T01:07:20.343430Z",
     "start_time": "2021-03-16T01:07:19.815072Z"
    }
   },
   "outputs": [],
   "source": [
    "import numpy as np\n",
    "import pandas as pd"
   ]
  },
  {
   "cell_type": "markdown",
   "id": "active-airfare",
   "metadata": {},
   "source": [
    "# data"
   ]
  },
  {
   "cell_type": "code",
   "execution_count": 6,
   "id": "infrared-september",
   "metadata": {
    "ExecuteTime": {
     "end_time": "2021-03-16T01:50:23.401101Z",
     "start_time": "2021-03-16T01:50:23.394456Z"
    }
   },
   "outputs": [],
   "source": [
    "data_size = 100"
   ]
  },
  {
   "cell_type": "code",
   "execution_count": 7,
   "id": "distributed-badge",
   "metadata": {
    "ExecuteTime": {
     "end_time": "2021-03-16T01:50:34.016461Z",
     "start_time": "2021-03-16T01:50:34.002138Z"
    }
   },
   "outputs": [],
   "source": [
    "x3 = np.random.uniform(size=data_size)\n",
    "x0 = 3.0*x3 + np.random.uniform(size=data_size)\n",
    "x2 = 6.0*x3 + np.random.uniform(size=data_size)\n",
    "x1 = 3.0*x0 + 2.0*x2 + np.random.uniform(size=data_size)\n",
    "x5 = 4.0*x0 + np.random.uniform(size=data_size)\n",
    "x4 = 8.0*x0 - 1.0*x2 + np.random.uniform(size=data_size)\n",
    "X = pd.DataFrame(np.array([x0, x1, x2, x3, x4, x5]).T ,columns=['x0', 'x1', 'x2', 'x3', 'x4', 'x5'])"
   ]
  },
  {
   "cell_type": "code",
   "execution_count": 8,
   "id": "random-joining",
   "metadata": {
    "ExecuteTime": {
     "end_time": "2021-03-16T01:50:34.582605Z",
     "start_time": "2021-03-16T01:50:34.564601Z"
    }
   },
   "outputs": [
    {
     "data": {
      "text/html": [
       "<div>\n",
       "<style scoped>\n",
       "    .dataframe tbody tr th:only-of-type {\n",
       "        vertical-align: middle;\n",
       "    }\n",
       "\n",
       "    .dataframe tbody tr th {\n",
       "        vertical-align: top;\n",
       "    }\n",
       "\n",
       "    .dataframe thead th {\n",
       "        text-align: right;\n",
       "    }\n",
       "</style>\n",
       "<table border=\"1\" class=\"dataframe\">\n",
       "  <thead>\n",
       "    <tr style=\"text-align: right;\">\n",
       "      <th></th>\n",
       "      <th>x0</th>\n",
       "      <th>x1</th>\n",
       "      <th>x2</th>\n",
       "      <th>x3</th>\n",
       "      <th>x4</th>\n",
       "      <th>x5</th>\n",
       "    </tr>\n",
       "  </thead>\n",
       "  <tbody>\n",
       "    <tr>\n",
       "      <th>0</th>\n",
       "      <td>2.659364</td>\n",
       "      <td>16.944898</td>\n",
       "      <td>4.415817</td>\n",
       "      <td>0.690049</td>\n",
       "      <td>17.781989</td>\n",
       "      <td>11.054593</td>\n",
       "    </tr>\n",
       "    <tr>\n",
       "      <th>1</th>\n",
       "      <td>3.102389</td>\n",
       "      <td>21.707449</td>\n",
       "      <td>5.762200</td>\n",
       "      <td>0.863874</td>\n",
       "      <td>19.492308</td>\n",
       "      <td>12.450259</td>\n",
       "    </tr>\n",
       "    <tr>\n",
       "      <th>2</th>\n",
       "      <td>2.376919</td>\n",
       "      <td>14.872874</td>\n",
       "      <td>3.407629</td>\n",
       "      <td>0.493803</td>\n",
       "      <td>16.050910</td>\n",
       "      <td>9.770039</td>\n",
       "    </tr>\n",
       "    <tr>\n",
       "      <th>3</th>\n",
       "      <td>2.005879</td>\n",
       "      <td>15.688054</td>\n",
       "      <td>4.593845</td>\n",
       "      <td>0.660400</td>\n",
       "      <td>11.800263</td>\n",
       "      <td>8.973753</td>\n",
       "    </tr>\n",
       "    <tr>\n",
       "      <th>4</th>\n",
       "      <td>1.247517</td>\n",
       "      <td>9.985242</td>\n",
       "      <td>2.982640</td>\n",
       "      <td>0.354481</td>\n",
       "      <td>7.007883</td>\n",
       "      <td>5.529625</td>\n",
       "    </tr>\n",
       "  </tbody>\n",
       "</table>\n",
       "</div>"
      ],
      "text/plain": [
       "         x0         x1        x2        x3         x4         x5\n",
       "0  2.659364  16.944898  4.415817  0.690049  17.781989  11.054593\n",
       "1  3.102389  21.707449  5.762200  0.863874  19.492308  12.450259\n",
       "2  2.376919  14.872874  3.407629  0.493803  16.050910   9.770039\n",
       "3  2.005879  15.688054  4.593845  0.660400  11.800263   8.973753\n",
       "4  1.247517   9.985242  2.982640  0.354481   7.007883   5.529625"
      ]
     },
     "execution_count": 8,
     "metadata": {},
     "output_type": "execute_result"
    }
   ],
   "source": [
    "X.head()"
   ]
  },
  {
   "cell_type": "code",
   "execution_count": 9,
   "id": "greek-completion",
   "metadata": {
    "ExecuteTime": {
     "end_time": "2021-03-16T01:50:35.826418Z",
     "start_time": "2021-03-16T01:50:35.820124Z"
    }
   },
   "outputs": [],
   "source": [
    "X.to_csv('multi_data_sample.csv', index=False)"
   ]
  },
  {
   "cell_type": "markdown",
   "id": "thermal-enzyme",
   "metadata": {},
   "source": [
    "# BMLiNGAM"
   ]
  },
  {
   "cell_type": "code",
   "execution_count": 10,
   "id": "placed-former",
   "metadata": {
    "ExecuteTime": {
     "end_time": "2021-03-16T01:50:58.874112Z",
     "start_time": "2021-03-16T01:50:55.242088Z"
    },
    "scrolled": true
   },
   "outputs": [
    {
     "name": "stdout",
     "output_type": "stream",
     "text": [
      "usage: bmlingam-causality [-h] [--result_dir RESULT_DIR] [--out_optmodelfile]\n",
      "                          [--no_out_optmodelfile] [--col_names COL_NAMES]\n",
      "                          [--optmodel_files OPTMODEL_FILES] [--seed SEED]\n",
      "                          [--standardize_on] [--standardize_off]\n",
      "                          [--fix_mu_zero_on] [--fix_mu_zero_off]\n",
      "                          [--max_c MAX_C] [--n_mc_samples N_MC_SAMPLES]\n",
      "                          [--dist_noise DIST_NOISE] [--df_indvdl DF_INDVDL]\n",
      "                          [--prior_scale PRIOR_SCALE]\n",
      "                          [--prior_indvdls PRIOR_INDVDLS] [--cs CS]\n",
      "                          [--L_cov_21s L_COV_21S]\n",
      "                          [--betas_indvdl BETAS_INDVDL]\n",
      "                          [--betas_noise BETAS_NOISE]\n",
      "                          [--causalities CAUSALITIES]\n",
      "                          [--sampling_mode SAMPLING_MODE]\n",
      "                          csv_file\n",
      "\n",
      "positional arguments:\n",
      "  csv_file              CSV file of data.\n",
      "\n",
      "optional arguments:\n",
      "  -h, --help            show this help message and exit\n",
      "  --result_dir RESULT_DIR\n",
      "                        Directory where result files are saved. Default is\n",
      "                        current directory.\n",
      "  --out_optmodelfile    If this option is choosen (default), optimal model\n",
      "                        files will be created.\n",
      "  --no_out_optmodelfile\n",
      "                        If this option is choosen, optimal model files will\n",
      "                        not be created.\n",
      "  --col_names COL_NAMES\n",
      "                        Names of column, specified as 'name1,name2,...' (space\n",
      "                        not allowed). If set this value 'auto', column names\n",
      "                        will be automatically determined as 'x0,x1,...'. If\n",
      "                        csv file have column names (the 1st row of the file),\n",
      "                        they will be overwritten.\n",
      "  --optmodel_files OPTMODEL_FILES\n",
      "                        Filenames of optimal model files. This should be\n",
      "                        specified as Python list, e.g., '[\"file1\", \"file2\",\n",
      "                        ...]'. The length of the list must be the same with\n",
      "                        the number of all variable pairs in the data. If None\n",
      "                        (default), the filenames are automatically determined.\n",
      "                        This parameter overwrites --out_optmodelfile.\n",
      "  --seed SEED           Specify the seed of random number generator used in MC\n",
      "                        sampling. Default is 0.\n",
      "  --standardize_on      If this option is choosen (default), data is\n",
      "                        standardized to mean 0 and variance 1 before causal\n",
      "                        inference.\n",
      "  --standardize_off     If this option is choosen, data is not standardized.\n",
      "  --fix_mu_zero_on      If this option is choosen (default), common\n",
      "                        interception parameter mu_1,2 will be treated as 0\n",
      "                        (constant), not estimated.\n",
      "  --fix_mu_zero_off     If this option is choosen, common interception\n",
      "                        parameter mu_1,2 will be included in models as\n",
      "                        stochastic variables.\n",
      "  --max_c MAX_C         Scale constant on tau_cmmn. Default is 1.0.\n",
      "  --n_mc_samples N_MC_SAMPLES\n",
      "                        The number of Monte Carlo sampling in calculation of\n",
      "                        marginal likelihood values of models. Default is\n",
      "                        10000.\n",
      "  --dist_noise DIST_NOISE\n",
      "                        Noise distribution. 'laplace' or 'gg' (Generalized\n",
      "                        Gaussian). Default is gg.\n",
      "  --df_indvdl DF_INDVDL\n",
      "                        Degrees of freedom of T distribution for the prior of\n",
      "                        individual specific effects. Default is 8.0.\n",
      "  --prior_scale PRIOR_SCALE\n",
      "                        Prior distribution on noise variance. 'log_normal' or\n",
      "                        'tr_normal' (truncated normal distribution). Default\n",
      "                        is log_normal.\n",
      "  --prior_indvdls PRIOR_INDVDLS\n",
      "                        Distribution of individual effects in the model. This\n",
      "                        argument can be 't', 'gauss' or 'gg'. If you want to\n",
      "                        include multiple distributions, set this argument as\n",
      "                        't,gauss', then the program will apply both of t and\n",
      "                        Gaussian distributions to candidate models. Default is\n",
      "                        t.\n",
      "  --cs CS               Scales of stds of the individual specific effects.\n",
      "                        Default is '0,.2,.4,.6,.8'.\n",
      "  --L_cov_21s L_COV_21S\n",
      "                        List of correlations of individual specific effects.\n",
      "                        Default is '[-0.9,-0.7,-0.5,-0.3,0,.3,.5,.7,.9]'.\n",
      "  --betas_indvdl BETAS_INDVDL\n",
      "                        Shape parameter values of generalized Gaussian\n",
      "                        distributions for individual specific effects. When\n",
      "                        prior_indvdls includes 'gg', all of the beta values\n",
      "                        will be tested. .5 and 1. correspond to Laplace and\n",
      "                        Gaussian distributions, respectively. Default is\n",
      "                        '.25,.5,.75,1.'.\n",
      "  --betas_noise BETAS_NOISE\n",
      "                        Shape parameter values of generalized Gaussian\n",
      "                        distributions for observation noise. When dist_noise\n",
      "                        includes 'gg', all of the beta values will be tested.\n",
      "                        .5 and 1. correspond to Laplace and Gaussian\n",
      "                        distributions, respectively. Default is\n",
      "                        '.25,.5,.75,1.'.\n",
      "  --causalities CAUSALITIES\n",
      "                        Causalities to be tested. If set to 'x1->x2' or\n",
      "                        'x2->x1', causality is not inferred and other\n",
      "                        hyperparameters are searched. Default is 'x1->x2,\n",
      "                        x2->x1'.\n",
      "  --sampling_mode SAMPLING_MODE\n",
      "                        Specify sampling mode for numerical integration via\n",
      "                        MC. Options are 'normal', 'cache', 'cache_mp2',\n",
      "                        'cache_mp4' or 'cache_mp8'. 'normal' means naive MC\n",
      "                        sampling: generate random values at each\n",
      "                        hyperparameter set. When specified 'chache', random\n",
      "                        values are generated only at the beginning of the\n",
      "                        program and applied to marginal likelihood calculation\n",
      "                        with difference hyperparameter sets. Multiprocessing\n",
      "                        is supported with the option 'cache_mp[2, 4, 8]',\n",
      "                        using 2, 4 or 8 cores.\n"
     ]
    }
   ],
   "source": [
    "!bmlingam-causality -h"
   ]
  },
  {
   "cell_type": "code",
   "execution_count": 11,
   "id": "peripheral-invalid",
   "metadata": {
    "ExecuteTime": {
     "end_time": "2021-03-16T02:35:56.645285Z",
     "start_time": "2021-03-16T01:51:20.917399Z"
    },
    "scrolled": true
   },
   "outputs": [
    {
     "name": "stdout",
     "output_type": "stream",
     "text": [
      "---- Algorithm parameters ----\n",
      "Number of MC samples: 10000\n",
      "Number of candidate models: 1800\n",
      "\n",
      "---- Data ----\n",
      "Data loaded from multi_data_sample.csv.\n",
      "Data contains 100 samples.\n",
      "Variable names: ['x0' 'x1' 'x2' 'x3' 'x4' 'x5']\n",
      "\n",
      "{\n",
      "  \"2 * log(p(M)) - log(p(M_rev))\": \"5.807467763498266\",\n",
      "  \"Infered causality\": \"x1 -> x0\"\n",
      "}\n",
      "{\n",
      "  \"2 * log(p(M)) - log(p(M_rev))\": \"2.40752025490508\",\n",
      "  \"Infered causality\": \"x0 -> x2\"\n",
      "}\n",
      "{\n",
      "  \"2 * log(p(M)) - log(p(M_rev))\": \"2.611490141706156\",\n",
      "  \"Infered causality\": \"x0 -> x3\"\n",
      "}\n",
      "{\n",
      "  \"2 * log(p(M)) - log(p(M_rev))\": \"0.08761507610381614\",\n",
      "  \"Infered causality\": \"x0 -> x4\"\n",
      "}\n",
      "{\n",
      "  \"2 * log(p(M)) - log(p(M_rev))\": \"11.76469471428814\",\n",
      "  \"Infered causality\": \"x0 -> x5\"\n",
      "}\n",
      "{\n",
      "  \"2 * log(p(M)) - log(p(M_rev))\": \"5.693361818964149\",\n",
      "  \"Infered causality\": \"x2 -> x1\"\n",
      "}\n",
      "{\n",
      "  \"2 * log(p(M)) - log(p(M_rev))\": \"4.279576622022546\",\n",
      "  \"Infered causality\": \"x3 -> x1\"\n",
      "}\n",
      "{\n",
      "  \"2 * log(p(M)) - log(p(M_rev))\": \"1.3611527541922896\",\n",
      "  \"Infered causality\": \"x4 -> x1\"\n",
      "}\n",
      "{\n",
      "  \"2 * log(p(M)) - log(p(M_rev))\": \"7.375950733425611\",\n",
      "  \"Infered causality\": \"x5 -> x1\"\n",
      "}\n",
      "{\n",
      "  \"2 * log(p(M)) - log(p(M_rev))\": \"7.345604302704544\",\n",
      "  \"Infered causality\": \"x3 -> x2\"\n",
      "}\n",
      "{\n",
      "  \"2 * log(p(M)) - log(p(M_rev))\": \"4.287204988265273\",\n",
      "  \"Infered causality\": \"x2 -> x4\"\n",
      "}\n",
      "{\n",
      "  \"2 * log(p(M)) - log(p(M_rev))\": \"8.11728666385983\",\n",
      "  \"Infered causality\": \"x2 -> x5\"\n",
      "}\n",
      "{\n",
      "  \"2 * log(p(M)) - log(p(M_rev))\": \"0.6953765681549271\",\n",
      "  \"Infered causality\": \"x4 -> x3\"\n",
      "}\n",
      "{\n",
      "  \"2 * log(p(M)) - log(p(M_rev))\": \"7.527054235331775\",\n",
      "  \"Infered causality\": \"x3 -> x5\"\n",
      "}\n",
      "{\n",
      "  \"2 * log(p(M)) - log(p(M_rev))\": \"8.125384674836397\",\n",
      "  \"Infered causality\": \"x5 -> x4\"\n",
      "}\n",
      "Inferred causality table was saved as result_multi/causality.csv.\n",
      "Optimal model was saved as result_multi/x0_x1.bmlm.pklz.\n",
      "Optimal model was saved as result_multi/x0_x2.bmlm.pklz.\n",
      "Optimal model was saved as result_multi/x0_x3.bmlm.pklz.\n",
      "Optimal model was saved as result_multi/x0_x4.bmlm.pklz.\n",
      "Optimal model was saved as result_multi/x0_x5.bmlm.pklz.\n",
      "Optimal model was saved as result_multi/x1_x2.bmlm.pklz.\n",
      "Optimal model was saved as result_multi/x1_x3.bmlm.pklz.\n",
      "Optimal model was saved as result_multi/x1_x4.bmlm.pklz.\n",
      "Optimal model was saved as result_multi/x1_x5.bmlm.pklz.\n",
      "Optimal model was saved as result_multi/x2_x3.bmlm.pklz.\n",
      "Optimal model was saved as result_multi/x2_x4.bmlm.pklz.\n",
      "Optimal model was saved as result_multi/x2_x5.bmlm.pklz.\n",
      "Optimal model was saved as result_multi/x3_x4.bmlm.pklz.\n",
      "Optimal model was saved as result_multi/x3_x5.bmlm.pklz.\n",
      "Optimal model was saved as result_multi/x4_x5.bmlm.pklz.\n",
      "Program finished at Tue Mar 16 11:35:56 2021\n",
      "Elapsed time: 2673.4 [sec]\n",
      "\n"
     ]
    }
   ],
   "source": [
    "!bmlingam-causality multi_data_sample.csv --result_dir=result_multi"
   ]
  },
  {
   "cell_type": "code",
   "execution_count": null,
   "id": "wicked-tamil",
   "metadata": {},
   "outputs": [],
   "source": []
  },
  {
   "cell_type": "markdown",
   "id": "juvenile-regular",
   "metadata": {},
   "source": [
    "## causality"
   ]
  },
  {
   "cell_type": "code",
   "execution_count": 14,
   "id": "postal-picture",
   "metadata": {
    "ExecuteTime": {
     "end_time": "2021-03-16T03:13:01.316679Z",
     "start_time": "2021-03-16T03:13:01.306507Z"
    }
   },
   "outputs": [],
   "source": [
    "causality_df = pd.read_csv('result_multi/causality.csv')"
   ]
  },
  {
   "cell_type": "code",
   "execution_count": 15,
   "id": "respective-spotlight",
   "metadata": {
    "ExecuteTime": {
     "end_time": "2021-03-16T03:13:05.683667Z",
     "start_time": "2021-03-16T03:13:05.670216Z"
    }
   },
   "outputs": [
    {
     "data": {
      "text/html": [
       "<div>\n",
       "<style scoped>\n",
       "    .dataframe tbody tr th:only-of-type {\n",
       "        vertical-align: middle;\n",
       "    }\n",
       "\n",
       "    .dataframe tbody tr th {\n",
       "        vertical-align: top;\n",
       "    }\n",
       "\n",
       "    .dataframe thead th {\n",
       "        text-align: right;\n",
       "    }\n",
       "</style>\n",
       "<table border=\"1\" class=\"dataframe\">\n",
       "  <thead>\n",
       "    <tr style=\"text-align: right;\">\n",
       "      <th></th>\n",
       "      <th>Unnamed: 0</th>\n",
       "      <th>Inferred Causality</th>\n",
       "      <th>Posterior probability</th>\n",
       "      <th>Posterior probability of reverse model</th>\n",
       "    </tr>\n",
       "  </thead>\n",
       "  <tbody>\n",
       "    <tr>\n",
       "      <th>0</th>\n",
       "      <td>0</td>\n",
       "      <td>x1 -&gt; x0</td>\n",
       "      <td>0.383519</td>\n",
       "      <td>0.021024</td>\n",
       "    </tr>\n",
       "    <tr>\n",
       "      <th>1</th>\n",
       "      <td>1</td>\n",
       "      <td>x0 -&gt; x2</td>\n",
       "      <td>0.132686</td>\n",
       "      <td>0.039814</td>\n",
       "    </tr>\n",
       "    <tr>\n",
       "      <th>2</th>\n",
       "      <td>2</td>\n",
       "      <td>x0 -&gt; x3</td>\n",
       "      <td>0.161947</td>\n",
       "      <td>0.043883</td>\n",
       "    </tr>\n",
       "    <tr>\n",
       "      <th>3</th>\n",
       "      <td>3</td>\n",
       "      <td>x0 -&gt; x4</td>\n",
       "      <td>0.111445</td>\n",
       "      <td>0.106668</td>\n",
       "    </tr>\n",
       "    <tr>\n",
       "      <th>4</th>\n",
       "      <td>4</td>\n",
       "      <td>x0 -&gt; x5</td>\n",
       "      <td>0.087975</td>\n",
       "      <td>0.000245</td>\n",
       "    </tr>\n",
       "    <tr>\n",
       "      <th>5</th>\n",
       "      <td>5</td>\n",
       "      <td>x2 -&gt; x1</td>\n",
       "      <td>0.280688</td>\n",
       "      <td>0.016290</td>\n",
       "    </tr>\n",
       "    <tr>\n",
       "      <th>6</th>\n",
       "      <td>6</td>\n",
       "      <td>x3 -&gt; x1</td>\n",
       "      <td>0.280012</td>\n",
       "      <td>0.032952</td>\n",
       "    </tr>\n",
       "    <tr>\n",
       "      <th>7</th>\n",
       "      <td>7</td>\n",
       "      <td>x4 -&gt; x1</td>\n",
       "      <td>0.148733</td>\n",
       "      <td>0.075307</td>\n",
       "    </tr>\n",
       "    <tr>\n",
       "      <th>8</th>\n",
       "      <td>8</td>\n",
       "      <td>x5 -&gt; x1</td>\n",
       "      <td>0.421781</td>\n",
       "      <td>0.010554</td>\n",
       "    </tr>\n",
       "    <tr>\n",
       "      <th>9</th>\n",
       "      <td>9</td>\n",
       "      <td>x3 -&gt; x2</td>\n",
       "      <td>0.320560</td>\n",
       "      <td>0.008144</td>\n",
       "    </tr>\n",
       "    <tr>\n",
       "      <th>10</th>\n",
       "      <td>10</td>\n",
       "      <td>x2 -&gt; x4</td>\n",
       "      <td>0.245120</td>\n",
       "      <td>0.028736</td>\n",
       "    </tr>\n",
       "    <tr>\n",
       "      <th>11</th>\n",
       "      <td>11</td>\n",
       "      <td>x2 -&gt; x5</td>\n",
       "      <td>0.568173</td>\n",
       "      <td>0.009814</td>\n",
       "    </tr>\n",
       "    <tr>\n",
       "      <th>12</th>\n",
       "      <td>12</td>\n",
       "      <td>x4 -&gt; x3</td>\n",
       "      <td>0.082294</td>\n",
       "      <td>0.058126</td>\n",
       "    </tr>\n",
       "    <tr>\n",
       "      <th>13</th>\n",
       "      <td>13</td>\n",
       "      <td>x3 -&gt; x5</td>\n",
       "      <td>0.572845</td>\n",
       "      <td>0.013291</td>\n",
       "    </tr>\n",
       "    <tr>\n",
       "      <th>14</th>\n",
       "      <td>14</td>\n",
       "      <td>x5 -&gt; x4</td>\n",
       "      <td>0.371764</td>\n",
       "      <td>0.006395</td>\n",
       "    </tr>\n",
       "  </tbody>\n",
       "</table>\n",
       "</div>"
      ],
      "text/plain": [
       "    Unnamed: 0 Inferred Causality  Posterior probability  \\\n",
       "0            0           x1 -> x0               0.383519   \n",
       "1            1           x0 -> x2               0.132686   \n",
       "2            2           x0 -> x3               0.161947   \n",
       "3            3           x0 -> x4               0.111445   \n",
       "4            4           x0 -> x5               0.087975   \n",
       "5            5           x2 -> x1               0.280688   \n",
       "6            6           x3 -> x1               0.280012   \n",
       "7            7           x4 -> x1               0.148733   \n",
       "8            8           x5 -> x1               0.421781   \n",
       "9            9           x3 -> x2               0.320560   \n",
       "10          10           x2 -> x4               0.245120   \n",
       "11          11           x2 -> x5               0.568173   \n",
       "12          12           x4 -> x3               0.082294   \n",
       "13          13           x3 -> x5               0.572845   \n",
       "14          14           x5 -> x4               0.371764   \n",
       "\n",
       "    Posterior probability of reverse model  \n",
       "0                                 0.021024  \n",
       "1                                 0.039814  \n",
       "2                                 0.043883  \n",
       "3                                 0.106668  \n",
       "4                                 0.000245  \n",
       "5                                 0.016290  \n",
       "6                                 0.032952  \n",
       "7                                 0.075307  \n",
       "8                                 0.010554  \n",
       "9                                 0.008144  \n",
       "10                                0.028736  \n",
       "11                                0.009814  \n",
       "12                                0.058126  \n",
       "13                                0.013291  \n",
       "14                                0.006395  "
      ]
     },
     "execution_count": 15,
     "metadata": {},
     "output_type": "execute_result"
    }
   ],
   "source": [
    "causality_df"
   ]
  },
  {
   "cell_type": "code",
   "execution_count": null,
   "id": "specified-speech",
   "metadata": {},
   "outputs": [],
   "source": []
  },
  {
   "cell_type": "code",
   "execution_count": 16,
   "id": "median-morocco",
   "metadata": {
    "ExecuteTime": {
     "end_time": "2021-03-16T03:16:56.076412Z",
     "start_time": "2021-03-16T03:16:00.405993Z"
    }
   },
   "outputs": [
    {
     "name": "stdout",
     "output_type": "stream",
     "text": [
      "result_multi/x0_x4.bmlm.pklz\n",
      "/Users/yamaji/anaconda3/envs/py37/lib/python3.7/site-packages/pymc3/sampling.py:468: FutureWarning: In an upcoming release, pm.sample will return an `arviz.InferenceData` object instead of a `MultiTrace` by default. You can pass return_inferencedata=True or return_inferencedata=False to be safe and silence this warning.\n",
      "  FutureWarning,\n",
      "Sequential sampling (2 chains in 1 job)\n",
      "CompoundStep\n",
      ">Metropolis: [b]\n",
      ">Metropolis: [h2]\n",
      ">Metropolis: [h1]\n",
      ">Metropolis: [u2s]\n",
      ">Metropolis: [u1s]\n",
      "Sampling 2 chains for 1_000 tune and 10_000 draw iterations (2_000 + 20_000 draws total) took 14 seconds.\n",
      "The rhat statistic is larger than 1.4 for some parameters. The sampler did not converge.\n",
      "The estimated number of effective samples is smaller than 200 for some parameters.\n",
      "/Users/yamaji/anaconda3/envs/py37/lib/python3.7/site-packages/pymc3/sampling.py:468: FutureWarning: In an upcoming release, pm.sample will return an `arviz.InferenceData` object instead of a `MultiTrace` by default. You can pass return_inferencedata=True or return_inferencedata=False to be safe and silence this warning.\n",
      "  FutureWarning,\n",
      "Sequential sampling (2 chains in 1 job)\n",
      "CompoundStep\n",
      ">Metropolis: [b]\n",
      ">Metropolis: [h2]\n",
      ">Metropolis: [h1]\n",
      ">Metropolis: [u2s]\n",
      ">Metropolis: [u1s]\n",
      "Sampling 2 chains for 0 tune and 11_000 draw iterations (0 + 22_000 draws total) took 13 seconds.\n",
      "The number of effective samples is smaller than 10% for some parameters.\n",
      "---- Variables x0 and x4 ----\n",
      "Inferred causality   : x0 -> x4\n",
      "Posterior mean       : 6.133796\n",
      "95% Credible interval: (4.880735, 7.283743)\n",
      "\n",
      "True False\n",
      "/Users/yamaji/anaconda3/envs/py37/lib/python3.7/site-packages/numpy/core/_asarray.py:171: VisibleDeprecationWarning: Creating an ndarray from ragged nested sequences (which is a list-or-tuple of lists-or-tuples-or ndarrays with different lengths or shapes) is deprecated. If you meant to do this, you must specify 'dtype=object' when creating the ndarray.\n",
      "  return array(a, dtype, copy=False, order=order, subok=True)\n",
      "A figure of the distribution of the posterior sampleswas saved as result_multi/x0_x4.bmlm.png.\n",
      "Posterior samples was saved as result_multi/x0_x4.bmlm.post.csv.\n",
      "Program finished at Tue Mar 16 12:16:55 2021\n",
      "Elapsed time: 53.2 [sec]\n"
     ]
    }
   ],
   "source": [
    "!bmlingam-coeff result_multi/x0_x4.bmlm.pklz --cores 1"
   ]
  },
  {
   "cell_type": "code",
   "execution_count": 17,
   "id": "commercial-mitchell",
   "metadata": {
    "ExecuteTime": {
     "end_time": "2021-03-16T03:20:00.827567Z",
     "start_time": "2021-03-16T03:19:09.304421Z"
    }
   },
   "outputs": [
    {
     "name": "stdout",
     "output_type": "stream",
     "text": [
      "result_multi/x0_x5.bmlm.pklz\n",
      "/Users/yamaji/anaconda3/envs/py37/lib/python3.7/site-packages/pymc3/sampling.py:468: FutureWarning: In an upcoming release, pm.sample will return an `arviz.InferenceData` object instead of a `MultiTrace` by default. You can pass return_inferencedata=True or return_inferencedata=False to be safe and silence this warning.\n",
      "  FutureWarning,\n",
      "Sequential sampling (2 chains in 1 job)\n",
      "CompoundStep\n",
      ">Metropolis: [b]\n",
      ">Metropolis: [h2]\n",
      ">Metropolis: [h1]\n",
      ">Metropolis: [u2s]\n",
      ">Metropolis: [u1s]\n",
      "Sampling 2 chains for 1_000 tune and 10_000 draw iterations (2_000 + 20_000 draws total) took 14 seconds.\n",
      "The rhat statistic is larger than 1.4 for some parameters. The sampler did not converge.\n",
      "The estimated number of effective samples is smaller than 200 for some parameters.\n",
      "/Users/yamaji/anaconda3/envs/py37/lib/python3.7/site-packages/pymc3/sampling.py:468: FutureWarning: In an upcoming release, pm.sample will return an `arviz.InferenceData` object instead of a `MultiTrace` by default. You can pass return_inferencedata=True or return_inferencedata=False to be safe and silence this warning.\n",
      "  FutureWarning,\n",
      "Sequential sampling (2 chains in 1 job)\n",
      "CompoundStep\n",
      ">Metropolis: [b]\n",
      ">Metropolis: [h2]\n",
      ">Metropolis: [h1]\n",
      ">Metropolis: [u2s]\n",
      ">Metropolis: [u1s]\n",
      "Sampling 2 chains for 0 tune and 11_000 draw iterations (0 + 22_000 draws total) took 13 seconds.\n",
      "The number of effective samples is smaller than 10% for some parameters.\n",
      "---- Variables x0 and x5 ----\n",
      "Inferred causality   : x0 -> x5\n",
      "Posterior mean       : 3.932020\n",
      "95% Credible interval: (3.129781, 4.671524)\n",
      "\n",
      "True False\n",
      "/Users/yamaji/anaconda3/envs/py37/lib/python3.7/site-packages/numpy/core/_asarray.py:171: VisibleDeprecationWarning: Creating an ndarray from ragged nested sequences (which is a list-or-tuple of lists-or-tuples-or ndarrays with different lengths or shapes) is deprecated. If you meant to do this, you must specify 'dtype=object' when creating the ndarray.\n",
      "  return array(a, dtype, copy=False, order=order, subok=True)\n",
      "A figure of the distribution of the posterior sampleswas saved as result_multi/x0_x5.bmlm.png.\n",
      "Posterior samples was saved as result_multi/x0_x5.bmlm.post.csv.\n",
      "Program finished at Tue Mar 16 12:20:00 2021\n",
      "Elapsed time: 49.1 [sec]\n"
     ]
    }
   ],
   "source": [
    "!bmlingam-coeff result_multi/x0_x5.bmlm.pklz --cores 1"
   ]
  },
  {
   "cell_type": "code",
   "execution_count": 18,
   "id": "tight-priority",
   "metadata": {
    "ExecuteTime": {
     "end_time": "2021-03-16T03:21:49.255323Z",
     "start_time": "2021-03-16T03:20:56.113221Z"
    }
   },
   "outputs": [
    {
     "name": "stdout",
     "output_type": "stream",
     "text": [
      "result_multi/x0_x1.bmlm.pklz\n",
      "/Users/yamaji/anaconda3/envs/py37/lib/python3.7/site-packages/pymc3/sampling.py:468: FutureWarning: In an upcoming release, pm.sample will return an `arviz.InferenceData` object instead of a `MultiTrace` by default. You can pass return_inferencedata=True or return_inferencedata=False to be safe and silence this warning.\n",
      "  FutureWarning,\n",
      "Sequential sampling (2 chains in 1 job)\n",
      "CompoundStep\n",
      ">Metropolis: [b]\n",
      ">Metropolis: [h2]\n",
      ">Metropolis: [h1]\n",
      ">Metropolis: [u2s]\n",
      ">Metropolis: [u1s]\n",
      "Sampling 2 chains for 1_000 tune and 10_000 draw iterations (2_000 + 20_000 draws total) took 14 seconds.\n",
      "The rhat statistic is larger than 1.4 for some parameters. The sampler did not converge.\n",
      "The estimated number of effective samples is smaller than 200 for some parameters.\n",
      "/Users/yamaji/anaconda3/envs/py37/lib/python3.7/site-packages/pymc3/sampling.py:468: FutureWarning: In an upcoming release, pm.sample will return an `arviz.InferenceData` object instead of a `MultiTrace` by default. You can pass return_inferencedata=True or return_inferencedata=False to be safe and silence this warning.\n",
      "  FutureWarning,\n",
      "Sequential sampling (2 chains in 1 job)\n",
      "CompoundStep\n",
      ">Metropolis: [b]\n",
      ">Metropolis: [h2]\n",
      ">Metropolis: [h1]\n",
      ">Metropolis: [u2s]\n",
      ">Metropolis: [u1s]\n",
      "Sampling 2 chains for 0 tune and 11_000 draw iterations (0 + 22_000 draws total) took 13 seconds.\n",
      "The number of effective samples is smaller than 10% for some parameters.\n",
      "---- Variables x0 and x1 ----\n",
      "Inferred causality   : x1 -> x0\n",
      "Posterior mean       : 0.142645\n",
      "95% Credible interval: (0.113446, 0.170676)\n",
      "\n",
      "True False\n",
      "/Users/yamaji/anaconda3/envs/py37/lib/python3.7/site-packages/numpy/core/_asarray.py:171: VisibleDeprecationWarning: Creating an ndarray from ragged nested sequences (which is a list-or-tuple of lists-or-tuples-or ndarrays with different lengths or shapes) is deprecated. If you meant to do this, you must specify 'dtype=object' when creating the ndarray.\n",
      "  return array(a, dtype, copy=False, order=order, subok=True)\n",
      "A figure of the distribution of the posterior sampleswas saved as result_multi/x0_x1.bmlm.png.\n",
      "Posterior samples was saved as result_multi/x0_x1.bmlm.post.csv.\n",
      "Program finished at Tue Mar 16 12:21:48 2021\n",
      "Elapsed time: 50.5 [sec]\n"
     ]
    }
   ],
   "source": [
    "!bmlingam-coeff result_multi/x0_x1.bmlm.pklz --cores 1"
   ]
  },
  {
   "cell_type": "code",
   "execution_count": null,
   "id": "delayed-visiting",
   "metadata": {},
   "outputs": [],
   "source": []
  },
  {
   "cell_type": "code",
   "execution_count": null,
   "id": "polar-wiring",
   "metadata": {},
   "outputs": [],
   "source": []
  },
  {
   "cell_type": "code",
   "execution_count": null,
   "id": "hollow-charleston",
   "metadata": {},
   "outputs": [],
   "source": []
  }
 ],
 "metadata": {
  "kernelspec": {
   "display_name": "Python 3",
   "language": "python",
   "name": "python3"
  },
  "language_info": {
   "codemirror_mode": {
    "name": "ipython",
    "version": 3
   },
   "file_extension": ".py",
   "mimetype": "text/x-python",
   "name": "python",
   "nbconvert_exporter": "python",
   "pygments_lexer": "ipython3",
   "version": "3.7.3"
  },
  "toc": {
   "base_numbering": 1,
   "nav_menu": {},
   "number_sections": true,
   "sideBar": true,
   "skip_h1_title": false,
   "title_cell": "Table of Contents",
   "title_sidebar": "Contents",
   "toc_cell": false,
   "toc_position": {},
   "toc_section_display": true,
   "toc_window_display": true
  }
 },
 "nbformat": 4,
 "nbformat_minor": 5
}
