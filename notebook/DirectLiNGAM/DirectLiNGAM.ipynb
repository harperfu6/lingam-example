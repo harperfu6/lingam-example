{
 "cells": [
  {
   "cell_type": "markdown",
   "id": "periodic-monaco",
   "metadata": {},
   "source": [
    "# DirectLiNGAM"
   ]
  },
  {
   "cell_type": "code",
   "execution_count": 1,
   "id": "acting-symphony",
   "metadata": {
    "ExecuteTime": {
     "end_time": "2021-03-16T01:35:38.716870Z",
     "start_time": "2021-03-16T01:35:37.379020Z"
    }
   },
   "outputs": [
    {
     "name": "stdout",
     "output_type": "stream",
     "text": [
      "['1.20.1', '1.2.3', '0.16', '1.5.2']\n"
     ]
    }
   ],
   "source": [
    "import numpy as np\n",
    "import pandas as pd\n",
    "import graphviz\n",
    "import lingam\n",
    "from lingam.utils import make_dot\n",
    "\n",
    "print([np.__version__, pd.__version__, graphviz.__version__, lingam.__version__])\n",
    "\n",
    "np.set_printoptions(precision=3, suppress=True)\n",
    "np.random.seed(100)"
   ]
  },
  {
   "cell_type": "markdown",
   "id": "traditional-pride",
   "metadata": {},
   "source": [
    "# data"
   ]
  },
  {
   "cell_type": "code",
   "execution_count": 19,
   "id": "solid-recorder",
   "metadata": {
    "ExecuteTime": {
     "end_time": "2021-03-16T03:26:15.765710Z",
     "start_time": "2021-03-16T03:26:15.761787Z"
    }
   },
   "outputs": [],
   "source": [
    "data_size = 10000"
   ]
  },
  {
   "cell_type": "code",
   "execution_count": 20,
   "id": "sought-offer",
   "metadata": {
    "ExecuteTime": {
     "end_time": "2021-03-16T03:26:15.983806Z",
     "start_time": "2021-03-16T03:26:15.974571Z"
    }
   },
   "outputs": [],
   "source": [
    "x3 = np.random.uniform(size=data_size)\n",
    "x0 = 3.0*x3 + np.random.uniform(size=data_size)\n",
    "x2 = 6.0*x3 + np.random.uniform(size=data_size)\n",
    "x1 = 3.0*x0 + 2.0*x2 + np.random.uniform(size=data_size)\n",
    "x5 = 4.0*x0 + np.random.uniform(size=data_size)\n",
    "x4 = 8.0*x0 - 1.0*x2 + np.random.uniform(size=data_size)\n",
    "X = pd.DataFrame(np.array([x0, x1, x2, x3, x4, x5]).T ,columns=['x0', 'x1', 'x2', 'x3', 'x4', 'x5'])"
   ]
  },
  {
   "cell_type": "code",
   "execution_count": 21,
   "id": "limiting-croatia",
   "metadata": {
    "ExecuteTime": {
     "end_time": "2021-03-16T03:26:16.433371Z",
     "start_time": "2021-03-16T03:26:16.418163Z"
    }
   },
   "outputs": [
    {
     "data": {
      "text/html": [
       "<div>\n",
       "<style scoped>\n",
       "    .dataframe tbody tr th:only-of-type {\n",
       "        vertical-align: middle;\n",
       "    }\n",
       "\n",
       "    .dataframe tbody tr th {\n",
       "        vertical-align: top;\n",
       "    }\n",
       "\n",
       "    .dataframe thead th {\n",
       "        text-align: right;\n",
       "    }\n",
       "</style>\n",
       "<table border=\"1\" class=\"dataframe\">\n",
       "  <thead>\n",
       "    <tr style=\"text-align: right;\">\n",
       "      <th></th>\n",
       "      <th>x0</th>\n",
       "      <th>x1</th>\n",
       "      <th>x2</th>\n",
       "      <th>x3</th>\n",
       "      <th>x4</th>\n",
       "      <th>x5</th>\n",
       "    </tr>\n",
       "  </thead>\n",
       "  <tbody>\n",
       "    <tr>\n",
       "      <th>0</th>\n",
       "      <td>1.250610</td>\n",
       "      <td>6.311922</td>\n",
       "      <td>0.782338</td>\n",
       "      <td>0.113208</td>\n",
       "      <td>9.462228</td>\n",
       "      <td>5.765668</td>\n",
       "    </tr>\n",
       "    <tr>\n",
       "      <th>1</th>\n",
       "      <td>0.721127</td>\n",
       "      <td>4.550207</td>\n",
       "      <td>1.011937</td>\n",
       "      <td>0.047394</td>\n",
       "      <td>5.452665</td>\n",
       "      <td>3.565805</td>\n",
       "    </tr>\n",
       "    <tr>\n",
       "      <th>2</th>\n",
       "      <td>2.171038</td>\n",
       "      <td>14.150627</td>\n",
       "      <td>3.331538</td>\n",
       "      <td>0.391321</td>\n",
       "      <td>14.856894</td>\n",
       "      <td>9.475048</td>\n",
       "    </tr>\n",
       "    <tr>\n",
       "      <th>3</th>\n",
       "      <td>2.940119</td>\n",
       "      <td>20.158074</td>\n",
       "      <td>5.207998</td>\n",
       "      <td>0.710421</td>\n",
       "      <td>18.956596</td>\n",
       "      <td>12.275909</td>\n",
       "    </tr>\n",
       "    <tr>\n",
       "      <th>4</th>\n",
       "      <td>3.024484</td>\n",
       "      <td>18.967418</td>\n",
       "      <td>4.497211</td>\n",
       "      <td>0.749473</td>\n",
       "      <td>20.245130</td>\n",
       "      <td>13.041028</td>\n",
       "    </tr>\n",
       "  </tbody>\n",
       "</table>\n",
       "</div>"
      ],
      "text/plain": [
       "         x0         x1        x2        x3         x4         x5\n",
       "0  1.250610   6.311922  0.782338  0.113208   9.462228   5.765668\n",
       "1  0.721127   4.550207  1.011937  0.047394   5.452665   3.565805\n",
       "2  2.171038  14.150627  3.331538  0.391321  14.856894   9.475048\n",
       "3  2.940119  20.158074  5.207998  0.710421  18.956596  12.275909\n",
       "4  3.024484  18.967418  4.497211  0.749473  20.245130  13.041028"
      ]
     },
     "execution_count": 21,
     "metadata": {},
     "output_type": "execute_result"
    }
   ],
   "source": [
    "X.head()"
   ]
  },
  {
   "cell_type": "markdown",
   "id": "anonymous-encounter",
   "metadata": {},
   "source": [
    "# 正解の因果グラフ"
   ]
  },
  {
   "cell_type": "code",
   "execution_count": 22,
   "id": "frequent-belly",
   "metadata": {
    "ExecuteTime": {
     "end_time": "2021-03-16T03:26:19.301993Z",
     "start_time": "2021-03-16T03:26:18.496125Z"
    }
   },
   "outputs": [
    {
     "data": {
      "image/svg+xml": [
       "<?xml version=\"1.0\" encoding=\"UTF-8\" standalone=\"no\"?>\n",
       "<!DOCTYPE svg PUBLIC \"-//W3C//DTD SVG 1.1//EN\"\n",
       " \"http://www.w3.org/Graphics/SVG/1.1/DTD/svg11.dtd\">\n",
       "<!-- Generated by graphviz version 2.46.1 (20210213.1702)\n",
       " -->\n",
       "<!-- Pages: 1 -->\n",
       "<svg width=\"245pt\" height=\"218pt\"\n",
       " viewBox=\"0.00 0.00 245.00 218.00\" xmlns=\"http://www.w3.org/2000/svg\" xmlns:xlink=\"http://www.w3.org/1999/xlink\">\n",
       "<g id=\"graph0\" class=\"graph\" transform=\"scale(1 1) rotate(0) translate(4 214)\">\n",
       "<polygon fill=\"white\" stroke=\"transparent\" points=\"-4,4 -4,-214 241,-214 241,4 -4,4\"/>\n",
       "<!-- x0 -->\n",
       "<g id=\"node1\" class=\"node\">\n",
       "<title>x0</title>\n",
       "<ellipse fill=\"none\" stroke=\"black\" cx=\"150\" cy=\"-105\" rx=\"27\" ry=\"18\"/>\n",
       "<text text-anchor=\"middle\" x=\"150\" y=\"-101.3\" font-family=\"Times,serif\" font-size=\"14.00\">x0</text>\n",
       "</g>\n",
       "<!-- x1 -->\n",
       "<g id=\"node2\" class=\"node\">\n",
       "<title>x1</title>\n",
       "<ellipse fill=\"none\" stroke=\"black\" cx=\"125\" cy=\"-18\" rx=\"27\" ry=\"18\"/>\n",
       "<text text-anchor=\"middle\" x=\"125\" y=\"-14.3\" font-family=\"Times,serif\" font-size=\"14.00\">x1</text>\n",
       "</g>\n",
       "<!-- x0&#45;&gt;x1 -->\n",
       "<g id=\"edge2\" class=\"edge\">\n",
       "<title>x0&#45;&gt;x1</title>\n",
       "<path fill=\"none\" stroke=\"black\" d=\"M147.44,-86.65C145.78,-76.93 143.31,-64.65 140,-54 139.07,-51 137.97,-47.91 136.79,-44.87\"/>\n",
       "<polygon fill=\"black\" stroke=\"black\" points=\"139.96,-43.37 132.89,-35.47 133.49,-46.05 139.96,-43.37\"/>\n",
       "<text text-anchor=\"middle\" x=\"155.5\" y=\"-57.8\" font-family=\"Times,serif\" font-size=\"14.00\">3.00</text>\n",
       "</g>\n",
       "<!-- x4 -->\n",
       "<g id=\"node5\" class=\"node\">\n",
       "<title>x4</title>\n",
       "<ellipse fill=\"none\" stroke=\"black\" cx=\"27\" cy=\"-18\" rx=\"27\" ry=\"18\"/>\n",
       "<text text-anchor=\"middle\" x=\"27\" y=\"-14.3\" font-family=\"Times,serif\" font-size=\"14.00\">x4</text>\n",
       "</g>\n",
       "<!-- x0&#45;&gt;x4 -->\n",
       "<g id=\"edge5\" class=\"edge\">\n",
       "<title>x0&#45;&gt;x4</title>\n",
       "<path fill=\"none\" stroke=\"black\" d=\"M134.54,-90C120.46,-77.38 100.6,-59.92 92,-54 81.19,-46.56 68.64,-39.48 57.46,-33.65\"/>\n",
       "<polygon fill=\"black\" stroke=\"black\" points=\"58.96,-30.49 48.46,-29.08 55.79,-36.73 58.96,-30.49\"/>\n",
       "<text text-anchor=\"middle\" x=\"121.5\" y=\"-57.8\" font-family=\"Times,serif\" font-size=\"14.00\">8.00</text>\n",
       "</g>\n",
       "<!-- x5 -->\n",
       "<g id=\"node6\" class=\"node\">\n",
       "<title>x5</title>\n",
       "<ellipse fill=\"none\" stroke=\"black\" cx=\"210\" cy=\"-18\" rx=\"27\" ry=\"18\"/>\n",
       "<text text-anchor=\"middle\" x=\"210\" y=\"-14.3\" font-family=\"Times,serif\" font-size=\"14.00\">x5</text>\n",
       "</g>\n",
       "<!-- x0&#45;&gt;x5 -->\n",
       "<g id=\"edge7\" class=\"edge\">\n",
       "<title>x0&#45;&gt;x5</title>\n",
       "<path fill=\"none\" stroke=\"black\" d=\"M161,-88.41C169.97,-75.71 182.78,-57.56 193.05,-43.01\"/>\n",
       "<polygon fill=\"black\" stroke=\"black\" points=\"196.16,-44.68 199.06,-34.49 190.44,-40.64 196.16,-44.68\"/>\n",
       "<text text-anchor=\"middle\" x=\"195.5\" y=\"-57.8\" font-family=\"Times,serif\" font-size=\"14.00\">4.00</text>\n",
       "</g>\n",
       "<!-- x2 -->\n",
       "<g id=\"node3\" class=\"node\">\n",
       "<title>x2</title>\n",
       "<ellipse fill=\"none\" stroke=\"black\" cx=\"66\" cy=\"-105\" rx=\"27\" ry=\"18\"/>\n",
       "<text text-anchor=\"middle\" x=\"66\" y=\"-101.3\" font-family=\"Times,serif\" font-size=\"14.00\">x2</text>\n",
       "</g>\n",
       "<!-- x2&#45;&gt;x1 -->\n",
       "<g id=\"edge3\" class=\"edge\">\n",
       "<title>x2&#45;&gt;x1</title>\n",
       "<path fill=\"none\" stroke=\"black\" d=\"M62.44,-87.16C61.18,-76.91 61.27,-63.92 67,-54 72.72,-44.1 82.46,-36.67 92.35,-31.26\"/>\n",
       "<polygon fill=\"black\" stroke=\"black\" points=\"93.91,-34.39 101.35,-26.85 90.83,-28.11 93.91,-34.39\"/>\n",
       "<text text-anchor=\"middle\" x=\"79.5\" y=\"-57.8\" font-family=\"Times,serif\" font-size=\"14.00\">2.00</text>\n",
       "</g>\n",
       "<!-- x2&#45;&gt;x4 -->\n",
       "<g id=\"edge6\" class=\"edge\">\n",
       "<title>x2&#45;&gt;x4</title>\n",
       "<path fill=\"none\" stroke=\"black\" d=\"M43.73,-94.8C32.97,-89.08 21.1,-80.59 15,-69 11.04,-61.48 11.69,-52.63 14.06,-44.48\"/>\n",
       "<polygon fill=\"black\" stroke=\"black\" points=\"17.37,-45.62 17.62,-35.03 10.82,-43.15 17.37,-45.62\"/>\n",
       "<text text-anchor=\"middle\" x=\"29.5\" y=\"-57.8\" font-family=\"Times,serif\" font-size=\"14.00\">&#45;1.00</text>\n",
       "</g>\n",
       "<!-- x3 -->\n",
       "<g id=\"node4\" class=\"node\">\n",
       "<title>x3</title>\n",
       "<ellipse fill=\"none\" stroke=\"black\" cx=\"102\" cy=\"-192\" rx=\"27\" ry=\"18\"/>\n",
       "<text text-anchor=\"middle\" x=\"102\" y=\"-188.3\" font-family=\"Times,serif\" font-size=\"14.00\">x3</text>\n",
       "</g>\n",
       "<!-- x3&#45;&gt;x0 -->\n",
       "<g id=\"edge1\" class=\"edge\">\n",
       "<title>x3&#45;&gt;x0</title>\n",
       "<path fill=\"none\" stroke=\"black\" d=\"M111.03,-175.01C118.02,-162.63 127.84,-145.23 135.88,-131.01\"/>\n",
       "<polygon fill=\"black\" stroke=\"black\" points=\"138.98,-132.63 140.85,-122.21 132.88,-129.19 138.98,-132.63\"/>\n",
       "<text text-anchor=\"middle\" x=\"140.5\" y=\"-144.8\" font-family=\"Times,serif\" font-size=\"14.00\">3.00</text>\n",
       "</g>\n",
       "<!-- x3&#45;&gt;x2 -->\n",
       "<g id=\"edge4\" class=\"edge\">\n",
       "<title>x3&#45;&gt;x2</title>\n",
       "<path fill=\"none\" stroke=\"black\" d=\"M93.74,-174.76C90.86,-168.9 87.68,-162.2 85,-156 81.72,-148.41 78.43,-140.06 75.52,-132.39\"/>\n",
       "<polygon fill=\"black\" stroke=\"black\" points=\"78.73,-130.97 71.97,-122.82 72.17,-133.41 78.73,-130.97\"/>\n",
       "<text text-anchor=\"middle\" x=\"97.5\" y=\"-144.8\" font-family=\"Times,serif\" font-size=\"14.00\">6.00</text>\n",
       "</g>\n",
       "</g>\n",
       "</svg>\n"
      ],
      "text/plain": [
       "<graphviz.dot.Digraph at 0x10448f208>"
      ]
     },
     "execution_count": 22,
     "metadata": {},
     "output_type": "execute_result"
    }
   ],
   "source": [
    "m = np.array([[0.0, 0.0, 0.0, 3.0, 0.0, 0.0],\n",
    "              [3.0, 0.0, 2.0, 0.0, 0.0, 0.0],\n",
    "              [0.0, 0.0, 0.0, 6.0, 0.0, 0.0],\n",
    "              [0.0, 0.0, 0.0, 0.0, 0.0, 0.0],\n",
    "              [8.0, 0.0,-1.0, 0.0, 0.0, 0.0],\n",
    "              [4.0, 0.0, 0.0, 0.0, 0.0, 0.0]])\n",
    "\n",
    "dot = make_dot(m)\n",
    "\n",
    "# Save pdf\n",
    "dot.render('dag')\n",
    "\n",
    "# Save png\n",
    "dot.format = 'png'\n",
    "dot.render('dag')\n",
    "\n",
    "dot"
   ]
  },
  {
   "cell_type": "markdown",
   "id": "professional-fossil",
   "metadata": {},
   "source": [
    "# 因果探索"
   ]
  },
  {
   "cell_type": "code",
   "execution_count": 23,
   "id": "parallel-marsh",
   "metadata": {
    "ExecuteTime": {
     "end_time": "2021-03-16T03:26:20.236144Z",
     "start_time": "2021-03-16T03:26:20.068665Z"
    }
   },
   "outputs": [
    {
     "data": {
      "text/plain": [
       "<lingam.direct_lingam.DirectLiNGAM at 0x10447f7f0>"
      ]
     },
     "execution_count": 23,
     "metadata": {},
     "output_type": "execute_result"
    }
   ],
   "source": [
    "model = lingam.DirectLiNGAM()\n",
    "model.fit(X)"
   ]
  },
  {
   "cell_type": "markdown",
   "id": "white-refund",
   "metadata": {},
   "source": [
    "## 推定された因果の順番"
   ]
  },
  {
   "cell_type": "code",
   "execution_count": 24,
   "id": "handed-turkey",
   "metadata": {
    "ExecuteTime": {
     "end_time": "2021-03-16T03:26:22.246020Z",
     "start_time": "2021-03-16T03:26:22.240100Z"
    }
   },
   "outputs": [
    {
     "data": {
      "text/plain": [
       "[3, 2, 0, 4, 5, 1]"
      ]
     },
     "execution_count": 24,
     "metadata": {},
     "output_type": "execute_result"
    }
   ],
   "source": [
    "model.causal_order_"
   ]
  },
  {
   "cell_type": "markdown",
   "id": "owned-mississippi",
   "metadata": {},
   "source": [
    "## 推定された因果効果"
   ]
  },
  {
   "cell_type": "code",
   "execution_count": 25,
   "id": "invalid-establishment",
   "metadata": {
    "ExecuteTime": {
     "end_time": "2021-03-16T03:26:23.615125Z",
     "start_time": "2021-03-16T03:26:23.608868Z"
    }
   },
   "outputs": [
    {
     "data": {
      "text/plain": [
       "array([[ 0.   ,  0.   ,  0.   ,  2.979,  0.   ,  0.   ],\n",
       "       [ 2.982,  0.   ,  1.988,  0.108,  0.   ,  0.   ],\n",
       "       [ 0.   ,  0.   ,  0.   ,  6.002,  0.   ,  0.   ],\n",
       "       [ 0.   ,  0.   ,  0.   ,  0.   ,  0.   ,  0.   ],\n",
       "       [ 7.987,  0.   , -0.993,  0.   ,  0.   ,  0.   ],\n",
       "       [ 3.986,  0.   ,  0.   ,  0.   ,  0.   ,  0.   ]])"
      ]
     },
     "execution_count": 25,
     "metadata": {},
     "output_type": "execute_result"
    }
   ],
   "source": [
    "model.adjacency_matrix_"
   ]
  },
  {
   "cell_type": "markdown",
   "id": "cubic-survey",
   "metadata": {},
   "source": [
    "## （まとめ）推定された因果グラフ"
   ]
  },
  {
   "cell_type": "code",
   "execution_count": 26,
   "id": "concerned-bobby",
   "metadata": {
    "ExecuteTime": {
     "end_time": "2021-03-16T03:26:25.545256Z",
     "start_time": "2021-03-16T03:26:25.274255Z"
    }
   },
   "outputs": [
    {
     "data": {
      "image/svg+xml": [
       "<?xml version=\"1.0\" encoding=\"UTF-8\" standalone=\"no\"?>\n",
       "<!DOCTYPE svg PUBLIC \"-//W3C//DTD SVG 1.1//EN\"\n",
       " \"http://www.w3.org/Graphics/SVG/1.1/DTD/svg11.dtd\">\n",
       "<!-- Generated by graphviz version 2.46.1 (20210213.1702)\n",
       " -->\n",
       "<!-- Pages: 1 -->\n",
       "<svg width=\"266pt\" height=\"218pt\"\n",
       " viewBox=\"0.00 0.00 266.00 218.00\" xmlns=\"http://www.w3.org/2000/svg\" xmlns:xlink=\"http://www.w3.org/1999/xlink\">\n",
       "<g id=\"graph0\" class=\"graph\" transform=\"scale(1 1) rotate(0) translate(4 214)\">\n",
       "<polygon fill=\"white\" stroke=\"transparent\" points=\"-4,4 -4,-214 262,-214 262,4 -4,4\"/>\n",
       "<!-- x0 -->\n",
       "<g id=\"node1\" class=\"node\">\n",
       "<title>x0</title>\n",
       "<ellipse fill=\"none\" stroke=\"black\" cx=\"99\" cy=\"-105\" rx=\"27\" ry=\"18\"/>\n",
       "<text text-anchor=\"middle\" x=\"99\" y=\"-101.3\" font-family=\"Times,serif\" font-size=\"14.00\">x0</text>\n",
       "</g>\n",
       "<!-- x1 -->\n",
       "<g id=\"node2\" class=\"node\">\n",
       "<title>x1</title>\n",
       "<ellipse fill=\"none\" stroke=\"black\" cx=\"223\" cy=\"-18\" rx=\"27\" ry=\"18\"/>\n",
       "<text text-anchor=\"middle\" x=\"223\" y=\"-14.3\" font-family=\"Times,serif\" font-size=\"14.00\">x1</text>\n",
       "</g>\n",
       "<!-- x0&#45;&gt;x1 -->\n",
       "<g id=\"edge2\" class=\"edge\">\n",
       "<title>x0&#45;&gt;x1</title>\n",
       "<path fill=\"none\" stroke=\"black\" d=\"M103.08,-87.1C106.48,-76.3 112.37,-62.73 122,-54 131.97,-44.96 163.05,-34.93 188.13,-27.93\"/>\n",
       "<polygon fill=\"black\" stroke=\"black\" points=\"189.36,-31.23 198.09,-25.22 187.52,-24.47 189.36,-31.23\"/>\n",
       "<text text-anchor=\"middle\" x=\"134.5\" y=\"-57.8\" font-family=\"Times,serif\" font-size=\"14.00\">2.98</text>\n",
       "</g>\n",
       "<!-- x4 -->\n",
       "<g id=\"node5\" class=\"node\">\n",
       "<title>x4</title>\n",
       "<ellipse fill=\"none\" stroke=\"black\" cx=\"125\" cy=\"-18\" rx=\"27\" ry=\"18\"/>\n",
       "<text text-anchor=\"middle\" x=\"125\" y=\"-14.3\" font-family=\"Times,serif\" font-size=\"14.00\">x4</text>\n",
       "</g>\n",
       "<!-- x0&#45;&gt;x4 -->\n",
       "<g id=\"edge6\" class=\"edge\">\n",
       "<title>x0&#45;&gt;x4</title>\n",
       "<path fill=\"none\" stroke=\"black\" d=\"M85,-89.4C77.12,-79.34 69.97,-65.72 76,-54 80.13,-45.98 87.03,-39.39 94.38,-34.18\"/>\n",
       "<polygon fill=\"black\" stroke=\"black\" points=\"96.48,-36.99 103.07,-28.69 92.74,-31.08 96.48,-36.99\"/>\n",
       "<text text-anchor=\"middle\" x=\"88.5\" y=\"-57.8\" font-family=\"Times,serif\" font-size=\"14.00\">7.99</text>\n",
       "</g>\n",
       "<!-- x5 -->\n",
       "<g id=\"node6\" class=\"node\">\n",
       "<title>x5</title>\n",
       "<ellipse fill=\"none\" stroke=\"black\" cx=\"27\" cy=\"-18\" rx=\"27\" ry=\"18\"/>\n",
       "<text text-anchor=\"middle\" x=\"27\" y=\"-14.3\" font-family=\"Times,serif\" font-size=\"14.00\">x5</text>\n",
       "</g>\n",
       "<!-- x0&#45;&gt;x5 -->\n",
       "<g id=\"edge8\" class=\"edge\">\n",
       "<title>x0&#45;&gt;x5</title>\n",
       "<path fill=\"none\" stroke=\"black\" d=\"M76.85,-94.34C65.63,-88.45 52.6,-79.95 44,-69 38.74,-62.31 35.06,-53.9 32.51,-45.89\"/>\n",
       "<polygon fill=\"black\" stroke=\"black\" points=\"35.85,-44.85 29.84,-36.13 29.1,-46.7 35.85,-44.85\"/>\n",
       "<text text-anchor=\"middle\" x=\"56.5\" y=\"-57.8\" font-family=\"Times,serif\" font-size=\"14.00\">3.99</text>\n",
       "</g>\n",
       "<!-- x2 -->\n",
       "<g id=\"node3\" class=\"node\">\n",
       "<title>x2</title>\n",
       "<ellipse fill=\"none\" stroke=\"black\" cx=\"186\" cy=\"-105\" rx=\"27\" ry=\"18\"/>\n",
       "<text text-anchor=\"middle\" x=\"186\" y=\"-101.3\" font-family=\"Times,serif\" font-size=\"14.00\">x2</text>\n",
       "</g>\n",
       "<!-- x2&#45;&gt;x1 -->\n",
       "<g id=\"edge3\" class=\"edge\">\n",
       "<title>x2&#45;&gt;x1</title>\n",
       "<path fill=\"none\" stroke=\"black\" d=\"M193.13,-87.61C198.37,-75.58 205.6,-58.98 211.63,-45.13\"/>\n",
       "<polygon fill=\"black\" stroke=\"black\" points=\"214.98,-46.19 215.76,-35.63 208.56,-43.4 214.98,-46.19\"/>\n",
       "<text text-anchor=\"middle\" x=\"218.5\" y=\"-57.8\" font-family=\"Times,serif\" font-size=\"14.00\">1.99</text>\n",
       "</g>\n",
       "<!-- x2&#45;&gt;x4 -->\n",
       "<g id=\"edge7\" class=\"edge\">\n",
       "<title>x2&#45;&gt;x4</title>\n",
       "<path fill=\"none\" stroke=\"black\" d=\"M174.81,-88.41C165.7,-75.71 152.67,-57.56 142.23,-43.01\"/>\n",
       "<polygon fill=\"black\" stroke=\"black\" points=\"144.79,-40.58 136.12,-34.49 139.1,-44.66 144.79,-40.58\"/>\n",
       "<text text-anchor=\"middle\" x=\"173.5\" y=\"-57.8\" font-family=\"Times,serif\" font-size=\"14.00\">&#45;0.99</text>\n",
       "</g>\n",
       "<!-- x3 -->\n",
       "<g id=\"node4\" class=\"node\">\n",
       "<title>x3</title>\n",
       "<ellipse fill=\"none\" stroke=\"black\" cx=\"186\" cy=\"-192\" rx=\"27\" ry=\"18\"/>\n",
       "<text text-anchor=\"middle\" x=\"186\" y=\"-188.3\" font-family=\"Times,serif\" font-size=\"14.00\">x3</text>\n",
       "</g>\n",
       "<!-- x3&#45;&gt;x0 -->\n",
       "<g id=\"edge1\" class=\"edge\">\n",
       "<title>x3&#45;&gt;x0</title>\n",
       "<path fill=\"none\" stroke=\"black\" d=\"M171.24,-176.58C157.41,-163.07 136.56,-142.7 120.81,-127.31\"/>\n",
       "<polygon fill=\"black\" stroke=\"black\" points=\"123.14,-124.69 113.54,-120.21 118.25,-129.7 123.14,-124.69\"/>\n",
       "<text text-anchor=\"middle\" x=\"159.5\" y=\"-144.8\" font-family=\"Times,serif\" font-size=\"14.00\">2.98</text>\n",
       "</g>\n",
       "<!-- x3&#45;&gt;x1 -->\n",
       "<g id=\"edge4\" class=\"edge\">\n",
       "<title>x3&#45;&gt;x1</title>\n",
       "<path fill=\"none\" stroke=\"black\" d=\"M200.38,-176.76C205.69,-170.79 211.29,-163.5 215,-156 232.58,-120.43 230.53,-108.42 235,-69 235.75,-62.38 236.1,-60.58 235,-54 234.51,-51.09 233.82,-48.1 233,-45.14\"/>\n",
       "<polygon fill=\"black\" stroke=\"black\" points=\"236.28,-43.9 229.89,-35.44 229.61,-46.03 236.28,-43.9\"/>\n",
       "<text text-anchor=\"middle\" x=\"245.5\" y=\"-101.3\" font-family=\"Times,serif\" font-size=\"14.00\">0.11</text>\n",
       "</g>\n",
       "<!-- x3&#45;&gt;x2 -->\n",
       "<g id=\"edge5\" class=\"edge\">\n",
       "<title>x3&#45;&gt;x2</title>\n",
       "<path fill=\"none\" stroke=\"black\" d=\"M186,-173.8C186,-162.16 186,-146.55 186,-133.24\"/>\n",
       "<polygon fill=\"black\" stroke=\"black\" points=\"189.5,-133.18 186,-123.18 182.5,-133.18 189.5,-133.18\"/>\n",
       "<text text-anchor=\"middle\" x=\"198.5\" y=\"-144.8\" font-family=\"Times,serif\" font-size=\"14.00\">6.00</text>\n",
       "</g>\n",
       "</g>\n",
       "</svg>\n"
      ],
      "text/plain": [
       "<graphviz.dot.Digraph at 0x10447fb38>"
      ]
     },
     "execution_count": 26,
     "metadata": {},
     "output_type": "execute_result"
    }
   ],
   "source": [
    "make_dot(model.adjacency_matrix_)"
   ]
  },
  {
   "cell_type": "code",
   "execution_count": null,
   "id": "historic-flood",
   "metadata": {},
   "outputs": [],
   "source": []
  },
  {
   "cell_type": "markdown",
   "id": "still-loading",
   "metadata": {},
   "source": [
    "## 変数間のp値"
   ]
  },
  {
   "cell_type": "code",
   "execution_count": 27,
   "id": "possible-acrobat",
   "metadata": {
    "ExecuteTime": {
     "end_time": "2021-03-16T03:37:49.936397Z",
     "start_time": "2021-03-16T03:26:49.641559Z"
    }
   },
   "outputs": [
    {
     "ename": "KeyboardInterrupt",
     "evalue": "",
     "output_type": "error",
     "traceback": [
      "\u001b[0;31m---------------------------------------------------------------------------\u001b[0m",
      "\u001b[0;31mKeyboardInterrupt\u001b[0m                         Traceback (most recent call last)",
      "\u001b[0;32m<ipython-input-27-2c7e3a02b75d>\u001b[0m in \u001b[0;36m<module>\u001b[0;34m\u001b[0m\n\u001b[0;32m----> 1\u001b[0;31m \u001b[0mmodel\u001b[0m\u001b[0;34m.\u001b[0m\u001b[0mget_error_independence_p_values\u001b[0m\u001b[0;34m(\u001b[0m\u001b[0mX\u001b[0m\u001b[0;34m)\u001b[0m\u001b[0;34m\u001b[0m\u001b[0;34m\u001b[0m\u001b[0m\n\u001b[0m",
      "\u001b[0;32m~/anaconda3/envs/py37/lib/python3.7/site-packages/lingam/base.py\u001b[0m in \u001b[0;36mget_error_independence_p_values\u001b[0;34m(self, X)\u001b[0m\n\u001b[1;32m    112\u001b[0m         \u001b[0;32mfor\u001b[0m \u001b[0mi\u001b[0m\u001b[0;34m,\u001b[0m \u001b[0mj\u001b[0m \u001b[0;32min\u001b[0m \u001b[0mitertools\u001b[0m\u001b[0;34m.\u001b[0m\u001b[0mcombinations\u001b[0m\u001b[0;34m(\u001b[0m\u001b[0mrange\u001b[0m\u001b[0;34m(\u001b[0m\u001b[0mn_features\u001b[0m\u001b[0;34m)\u001b[0m\u001b[0;34m,\u001b[0m \u001b[0;36m2\u001b[0m\u001b[0;34m)\u001b[0m\u001b[0;34m:\u001b[0m\u001b[0;34m\u001b[0m\u001b[0;34m\u001b[0m\u001b[0m\n\u001b[1;32m    113\u001b[0m             _, p_value = hsic_test_gamma(np.reshape(E[:, i], [n_samples, 1]),\n\u001b[0;32m--> 114\u001b[0;31m                                          np.reshape(E[:, j], [n_samples, 1]))\n\u001b[0m\u001b[1;32m    115\u001b[0m             \u001b[0mp_values\u001b[0m\u001b[0;34m[\u001b[0m\u001b[0mi\u001b[0m\u001b[0;34m,\u001b[0m \u001b[0mj\u001b[0m\u001b[0;34m]\u001b[0m \u001b[0;34m=\u001b[0m \u001b[0mp_value\u001b[0m\u001b[0;34m\u001b[0m\u001b[0;34m\u001b[0m\u001b[0m\n\u001b[1;32m    116\u001b[0m             \u001b[0mp_values\u001b[0m\u001b[0;34m[\u001b[0m\u001b[0mj\u001b[0m\u001b[0;34m,\u001b[0m \u001b[0mi\u001b[0m\u001b[0;34m]\u001b[0m \u001b[0;34m=\u001b[0m \u001b[0mp_value\u001b[0m\u001b[0;34m\u001b[0m\u001b[0;34m\u001b[0m\u001b[0m\n",
      "\u001b[0;32m~/anaconda3/envs/py37/lib/python3.7/site-packages/lingam/hsic.py\u001b[0m in \u001b[0;36mhsic_test_gamma\u001b[0;34m(X, Y, bw_method)\u001b[0m\n\u001b[1;32m    140\u001b[0m \u001b[0;34m\u001b[0m\u001b[0m\n\u001b[1;32m    141\u001b[0m     \u001b[0;31m# these are slightly biased estimates of centered gram matrices\u001b[0m\u001b[0;34m\u001b[0m\u001b[0;34m\u001b[0m\u001b[0;34m\u001b[0m\u001b[0m\n\u001b[0;32m--> 142\u001b[0;31m     \u001b[0mK\u001b[0m\u001b[0;34m,\u001b[0m \u001b[0mKc\u001b[0m \u001b[0;34m=\u001b[0m \u001b[0mget_gram_matrix\u001b[0m\u001b[0;34m(\u001b[0m\u001b[0mX\u001b[0m\u001b[0;34m,\u001b[0m \u001b[0mwidth_x\u001b[0m\u001b[0;34m)\u001b[0m\u001b[0;34m\u001b[0m\u001b[0;34m\u001b[0m\u001b[0m\n\u001b[0m\u001b[1;32m    143\u001b[0m     \u001b[0mL\u001b[0m\u001b[0;34m,\u001b[0m \u001b[0mLc\u001b[0m \u001b[0;34m=\u001b[0m \u001b[0mget_gram_matrix\u001b[0m\u001b[0;34m(\u001b[0m\u001b[0mY\u001b[0m\u001b[0;34m,\u001b[0m \u001b[0mwidth_y\u001b[0m\u001b[0;34m)\u001b[0m\u001b[0;34m\u001b[0m\u001b[0;34m\u001b[0m\u001b[0m\n\u001b[1;32m    144\u001b[0m \u001b[0;34m\u001b[0m\u001b[0m\n",
      "\u001b[0;32m~/anaconda3/envs/py37/lib/python3.7/site-packages/lingam/hsic.py\u001b[0m in \u001b[0;36mget_gram_matrix\u001b[0;34m(X, width)\u001b[0m\n\u001b[1;32m     78\u001b[0m \u001b[0;34m\u001b[0m\u001b[0m\n\u001b[1;32m     79\u001b[0m     \u001b[0mK\u001b[0m \u001b[0;34m=\u001b[0m \u001b[0m_rbf_dot\u001b[0m\u001b[0;34m(\u001b[0m\u001b[0mX\u001b[0m\u001b[0;34m,\u001b[0m \u001b[0mX\u001b[0m\u001b[0;34m,\u001b[0m \u001b[0mwidth\u001b[0m\u001b[0;34m)\u001b[0m\u001b[0;34m\u001b[0m\u001b[0;34m\u001b[0m\u001b[0m\n\u001b[0;32m---> 80\u001b[0;31m     \u001b[0mKc\u001b[0m \u001b[0;34m=\u001b[0m \u001b[0mnp\u001b[0m\u001b[0;34m.\u001b[0m\u001b[0mdot\u001b[0m\u001b[0;34m(\u001b[0m\u001b[0mnp\u001b[0m\u001b[0;34m.\u001b[0m\u001b[0mdot\u001b[0m\u001b[0;34m(\u001b[0m\u001b[0mH\u001b[0m\u001b[0;34m,\u001b[0m \u001b[0mK\u001b[0m\u001b[0;34m)\u001b[0m\u001b[0;34m,\u001b[0m \u001b[0mH\u001b[0m\u001b[0;34m)\u001b[0m\u001b[0;34m\u001b[0m\u001b[0;34m\u001b[0m\u001b[0m\n\u001b[0m\u001b[1;32m     81\u001b[0m \u001b[0;34m\u001b[0m\u001b[0m\n\u001b[1;32m     82\u001b[0m     \u001b[0;32mreturn\u001b[0m \u001b[0mK\u001b[0m\u001b[0;34m,\u001b[0m \u001b[0mKc\u001b[0m\u001b[0;34m\u001b[0m\u001b[0;34m\u001b[0m\u001b[0m\n",
      "\u001b[0;32m<__array_function__ internals>\u001b[0m in \u001b[0;36mdot\u001b[0;34m(*args, **kwargs)\u001b[0m\n",
      "\u001b[0;31mKeyboardInterrupt\u001b[0m: "
     ]
    }
   ],
   "source": [
    "model.get_error_independence_p_values(X)"
   ]
  },
  {
   "cell_type": "code",
   "execution_count": null,
   "id": "characteristic-cylinder",
   "metadata": {},
   "outputs": [],
   "source": []
  },
  {
   "cell_type": "code",
   "execution_count": null,
   "id": "accepted-karaoke",
   "metadata": {},
   "outputs": [],
   "source": []
  },
  {
   "cell_type": "code",
   "execution_count": null,
   "id": "opening-basin",
   "metadata": {},
   "outputs": [],
   "source": []
  }
 ],
 "metadata": {
  "kernelspec": {
   "display_name": "Python 3",
   "language": "python",
   "name": "python3"
  },
  "language_info": {
   "codemirror_mode": {
    "name": "ipython",
    "version": 3
   },
   "file_extension": ".py",
   "mimetype": "text/x-python",
   "name": "python",
   "nbconvert_exporter": "python",
   "pygments_lexer": "ipython3",
   "version": "3.7.3"
  },
  "toc": {
   "base_numbering": 1,
   "nav_menu": {},
   "number_sections": true,
   "sideBar": true,
   "skip_h1_title": false,
   "title_cell": "Table of Contents",
   "title_sidebar": "Contents",
   "toc_cell": false,
   "toc_position": {},
   "toc_section_display": true,
   "toc_window_display": true
  }
 },
 "nbformat": 4,
 "nbformat_minor": 5
}
